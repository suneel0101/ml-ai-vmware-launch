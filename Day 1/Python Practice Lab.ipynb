{
 "cells": [
  {
   "cell_type": "markdown",
   "metadata": {},
   "source": [
    "## Objective\n",
    "Practice the Python skills we've gone over, with a practical use case.\n",
    "\n",
    "- Est time: 45 min"
   ]
  },
  {
   "cell_type": "markdown",
   "metadata": {},
   "source": [
    "### Let's explore `requests`"
   ]
  },
  {
   "cell_type": "code",
   "execution_count": null,
   "metadata": {},
   "outputs": [],
   "source": []
  },
  {
   "cell_type": "code",
   "execution_count": null,
   "metadata": {},
   "outputs": [],
   "source": []
  },
  {
   "cell_type": "markdown",
   "metadata": {},
   "source": [
    "Look at the docs for [Hacker News API](https://github.com/HackerNews/API)"
   ]
  },
  {
   "cell_type": "markdown",
   "metadata": {},
   "source": [
    "**Step 1.** Write a function `get_top_story_ids` that gets the top stories from the \"stopstories\" endpoint. \n",
    "\n",
    "```python\n",
    ">>> get_top_story_ids()\n",
    "[ 9129911, 9129199, 9127761, 9128141, 9128264, 9127792, 9129248, 9127092, 9128367, ..., 9038733 ]\n",
    "```"
   ]
  },
  {
   "cell_type": "code",
   "execution_count": null,
   "metadata": {},
   "outputs": [],
   "source": []
  },
  {
   "cell_type": "markdown",
   "metadata": {},
   "source": [
    "**Step 2.** Write a function that `get_story_data(story_id)` that fetches the JSON for a particular story id.\n",
    "\n",
    "```python\n",
    ">>> get_story_data(25870899)\n",
    "{'by': 'khuknows',\n",
    " 'descendants': 1,\n",
    " 'id': 25870899,\n",
    " 'kids': [25871077],\n",
    " 'score': 9,\n",
    " 'time': 1611316963,\n",
    " 'title': 'B2B SaaS marketplaces with opportunities for indie hackers',\n",
    " 'type': 'story',\n",
    " 'url': 'https://rocketgems.com/blog/saas-marketplaces/'}\n",
    "```"
   ]
  },
  {
   "cell_type": "code",
   "execution_count": null,
   "metadata": {},
   "outputs": [],
   "source": []
  },
  {
   "cell_type": "markdown",
   "metadata": {},
   "source": [
    "**Step 3.** Write function `get_top_story_info` that returns a list of story records, just the `id`, `title`, and `url`, for the N top stories. (Use the previous functions)\n",
    "\n",
    "```python\n",
    ">>> get_top_story_info(n=10)\n",
    "[\n",
    "    {\n",
    "        'id': 25870899,\n",
    "        'title': 'B2B SaaS marketplaces with opportunities for indie hackers',\n",
    "        'url': 'https://rocketgems.com/blog/saas-marketplaces/'\n",
    "    },\n",
    "    {\n",
    "        'id': ...\n",
    "    }\n",
    "]\n",
    "\n",
    "```"
   ]
  },
  {
   "cell_type": "code",
   "execution_count": null,
   "metadata": {},
   "outputs": [],
   "source": []
  },
  {
   "cell_type": "markdown",
   "metadata": {},
   "source": [
    "**Step 4**\n",
    "Create a function `save_to_db` that stores a list of titles, urls into a CSV that you can choose the name of"
   ]
  },
  {
   "cell_type": "code",
   "execution_count": null,
   "metadata": {},
   "outputs": [],
   "source": []
  }
 ],
 "metadata": {
  "kernelspec": {
   "display_name": "Python 3",
   "language": "python",
   "name": "python3"
  },
  "language_info": {
   "codemirror_mode": {
    "name": "ipython",
    "version": 3
   },
   "file_extension": ".py",
   "mimetype": "text/x-python",
   "name": "python",
   "nbconvert_exporter": "python",
   "pygments_lexer": "ipython3",
   "version": "3.8.5"
  }
 },
 "nbformat": 4,
 "nbformat_minor": 4
}
