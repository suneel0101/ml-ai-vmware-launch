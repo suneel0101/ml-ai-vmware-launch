{
 "cells": [
  {
   "cell_type": "markdown",
   "metadata": {},
   "source": [
    "# Objectives\n",
    "After going through this notebook, students will be able to write functions that\n",
    "\n",
    "- manipulate data\n",
    "- apply conditional logic\n",
    "- iterate through list-type structures\n",
    "- leverage Python libraries"
   ]
  },
  {
   "cell_type": "code",
   "execution_count": 3,
   "metadata": {},
   "outputs": [
    {
     "data": {
      "text/plain": [
       "'Yeah!'"
      ]
     },
     "execution_count": 3,
     "metadata": {},
     "output_type": "execute_result"
    }
   ],
   "source": [
    "\"Yeah!\""
   ]
  },
  {
   "cell_type": "markdown",
   "metadata": {},
   "source": [
    "# [10] Data Types\n",
    "\n",
    "Everything we do with coding boils down to working with data, so let's get familiar with the data types of Python and also start to build our comfort level with Python\n",
    "\n",
    "Let's also get comfortable with using the Jupyter Notebook environment!\n"
   ]
  },
  {
   "cell_type": "markdown",
   "metadata": {},
   "source": [
    "**Let's start with integers and floats.**"
   ]
  },
  {
   "cell_type": "code",
   "execution_count": 4,
   "metadata": {},
   "outputs": [
    {
     "data": {
      "text/plain": [
       "4"
      ]
     },
     "execution_count": 4,
     "metadata": {},
     "output_type": "execute_result"
    }
   ],
   "source": [
    "2 + 2"
   ]
  },
  {
   "cell_type": "code",
   "execution_count": 5,
   "metadata": {},
   "outputs": [
    {
     "data": {
      "text/plain": [
       "1.45"
      ]
     },
     "execution_count": 5,
     "metadata": {},
     "output_type": "execute_result"
    }
   ],
   "source": [
    "7.25 / 5"
   ]
  },
  {
   "cell_type": "markdown",
   "metadata": {},
   "source": [
    "**Try any mathematical operation and see it does what we want.**"
   ]
  },
  {
   "cell_type": "code",
   "execution_count": 6,
   "metadata": {},
   "outputs": [
    {
     "data": {
      "text/plain": [
       "52.95238095238095"
      ]
     },
     "execution_count": 6,
     "metadata": {},
     "output_type": "execute_result"
    }
   ],
   "source": [
    "((3 - 5) / 42) + 53"
   ]
  },
  {
   "cell_type": "code",
   "execution_count": null,
   "metadata": {},
   "outputs": [],
   "source": []
  },
  {
   "cell_type": "markdown",
   "metadata": {},
   "source": [
    "**What about strings? What are strings?**"
   ]
  },
  {
   "cell_type": "code",
   "execution_count": 7,
   "metadata": {},
   "outputs": [
    {
     "data": {
      "text/plain": [
       "'Hello'"
      ]
     },
     "execution_count": 7,
     "metadata": {},
     "output_type": "execute_result"
    }
   ],
   "source": [
    "'Hello'"
   ]
  },
  {
   "cell_type": "code",
   "execution_count": 8,
   "metadata": {},
   "outputs": [
    {
     "data": {
      "text/plain": [
       "'Hello'"
      ]
     },
     "execution_count": 8,
     "metadata": {},
     "output_type": "execute_result"
    }
   ],
   "source": [
    "\"Hello\""
   ]
  },
  {
   "cell_type": "code",
   "execution_count": 9,
   "metadata": {},
   "outputs": [
    {
     "data": {
      "text/plain": [
       "\"Tom's Coffee\""
      ]
     },
     "execution_count": 9,
     "metadata": {},
     "output_type": "execute_result"
    }
   ],
   "source": [
    "\"Tom's Coffee\""
   ]
  },
  {
   "cell_type": "code",
   "execution_count": 10,
   "metadata": {},
   "outputs": [
    {
     "data": {
      "text/plain": [
       "\"Tom's coffee\""
      ]
     },
     "execution_count": 10,
     "metadata": {},
     "output_type": "execute_result"
    }
   ],
   "source": [
    "'Tom\\'s coffee'"
   ]
  },
  {
   "cell_type": "markdown",
   "metadata": {},
   "source": [
    "**There are other data types that are built-in, primary data types, called Booleans**"
   ]
  },
  {
   "cell_type": "code",
   "execution_count": 11,
   "metadata": {},
   "outputs": [
    {
     "data": {
      "text/plain": [
       "True"
      ]
     },
     "execution_count": 11,
     "metadata": {},
     "output_type": "execute_result"
    }
   ],
   "source": [
    "True"
   ]
  },
  {
   "cell_type": "markdown",
   "metadata": {},
   "source": [
    "Let's try `False`"
   ]
  },
  {
   "cell_type": "code",
   "execution_count": 12,
   "metadata": {},
   "outputs": [
    {
     "data": {
      "text/plain": [
       "False"
      ]
     },
     "execution_count": 12,
     "metadata": {},
     "output_type": "execute_result"
    }
   ],
   "source": [
    "False"
   ]
  },
  {
   "cell_type": "markdown",
   "metadata": {},
   "source": [
    "There's also `None`"
   ]
  },
  {
   "cell_type": "code",
   "execution_count": 13,
   "metadata": {},
   "outputs": [],
   "source": [
    "None"
   ]
  },
  {
   "cell_type": "code",
   "execution_count": null,
   "metadata": {},
   "outputs": [],
   "source": []
  },
  {
   "cell_type": "markdown",
   "metadata": {},
   "source": [
    "**Casting**\n",
    "\n",
    "- Let's play with `int()`, `boolean()`, `str()`\n",
    "- With `bool` let's reverse-engineer what it's doing by trying it on different inputs and see what the outputs are."
   ]
  },
  {
   "cell_type": "code",
   "execution_count": 14,
   "metadata": {},
   "outputs": [
    {
     "data": {
      "text/plain": [
       "True"
      ]
     },
     "execution_count": 14,
     "metadata": {},
     "output_type": "execute_result"
    }
   ],
   "source": [
    "bool(\"Hello\")"
   ]
  },
  {
   "cell_type": "code",
   "execution_count": 15,
   "metadata": {},
   "outputs": [
    {
     "data": {
      "text/plain": [
       "False"
      ]
     },
     "execution_count": 15,
     "metadata": {},
     "output_type": "execute_result"
    }
   ],
   "source": [
    "bool(\"\")"
   ]
  },
  {
   "cell_type": "code",
   "execution_count": 16,
   "metadata": {},
   "outputs": [
    {
     "data": {
      "text/plain": [
       "True"
      ]
     },
     "execution_count": 16,
     "metadata": {},
     "output_type": "execute_result"
    }
   ],
   "source": [
    "bool(1280)"
   ]
  },
  {
   "cell_type": "code",
   "execution_count": 18,
   "metadata": {},
   "outputs": [
    {
     "data": {
      "text/plain": [
       "False"
      ]
     },
     "execution_count": 18,
     "metadata": {},
     "output_type": "execute_result"
    }
   ],
   "source": [
    "bool(0)"
   ]
  },
  {
   "cell_type": "code",
   "execution_count": 19,
   "metadata": {},
   "outputs": [
    {
     "data": {
      "text/plain": [
       "'2.0'"
      ]
     },
     "execution_count": 19,
     "metadata": {},
     "output_type": "execute_result"
    }
   ],
   "source": [
    "str(2.0)"
   ]
  },
  {
   "cell_type": "markdown",
   "metadata": {},
   "source": [
    "# [15] String Manipulation\n",
    "A significant chunk of certain ML work involves working with unstructured data like textual data.\n",
    "\n",
    "Give some examples and ask for more examples from the class:\n",
    "- Analyzing restaurant reviews\n",
    "- Detecting spam\n",
    "- Classifying sentiment\n",
    "\n",
    "How are these related to manipulating string data?"
   ]
  },
  {
   "cell_type": "markdown",
   "metadata": {},
   "source": [
    "**There are many different things we can do with strings. Let's look at the docs:***\n",
    "\n",
    "### https://docs.python.org/3/library/stdtypes.html#string-methods"
   ]
  },
  {
   "cell_type": "code",
   "execution_count": null,
   "metadata": {},
   "outputs": [],
   "source": []
  },
  {
   "cell_type": "markdown",
   "metadata": {},
   "source": [
    "**Let's see how we define variables.**"
   ]
  },
  {
   "cell_type": "code",
   "execution_count": 20,
   "metadata": {},
   "outputs": [],
   "source": [
    "description = \"Python is a great language to learn!\""
   ]
  },
  {
   "cell_type": "code",
   "execution_count": 21,
   "metadata": {},
   "outputs": [
    {
     "data": {
      "text/plain": [
       "'python is a great language to learn!'"
      ]
     },
     "execution_count": 21,
     "metadata": {},
     "output_type": "execute_result"
    }
   ],
   "source": [
    "description.lower()"
   ]
  },
  {
   "cell_type": "markdown",
   "metadata": {},
   "source": [
    "**Now try uppercasing**"
   ]
  },
  {
   "cell_type": "code",
   "execution_count": 22,
   "metadata": {},
   "outputs": [
    {
     "data": {
      "text/plain": [
       "'PYTHON IS A GREAT LANGUAGE TO LEARN!'"
      ]
     },
     "execution_count": 22,
     "metadata": {},
     "output_type": "execute_result"
    }
   ],
   "source": [
    "description.upper()"
   ]
  },
  {
   "cell_type": "code",
   "execution_count": 23,
   "metadata": {},
   "outputs": [
    {
     "data": {
      "text/plain": [
       "'Python is a great language to learn!'"
      ]
     },
     "execution_count": 23,
     "metadata": {},
     "output_type": "execute_result"
    }
   ],
   "source": [
    "description.capitalize()"
   ]
  },
  {
   "cell_type": "code",
   "execution_count": null,
   "metadata": {},
   "outputs": [],
   "source": []
  },
  {
   "cell_type": "markdown",
   "metadata": {},
   "source": [
    "**Some other methods to try**\n",
    "\n",
    "- `.capitalize()`\n",
    "- `.endswith()`"
   ]
  },
  {
   "cell_type": "code",
   "execution_count": 25,
   "metadata": {},
   "outputs": [
    {
     "data": {
      "text/plain": [
       "True"
      ]
     },
     "execution_count": 25,
     "metadata": {},
     "output_type": "execute_result"
    }
   ],
   "source": [
    "description.endswith('learn!')"
   ]
  },
  {
   "cell_type": "code",
   "execution_count": null,
   "metadata": {},
   "outputs": [],
   "source": []
  },
  {
   "cell_type": "code",
   "execution_count": 27,
   "metadata": {},
   "outputs": [],
   "source": [
    "messy_string = '    Hello how are you? There are a lot of $pace$ ' "
   ]
  },
  {
   "cell_type": "markdown",
   "metadata": {},
   "source": [
    "## Exercise\n",
    "Strip the extraneous whitespace from the above variable."
   ]
  },
  {
   "cell_type": "code",
   "execution_count": 28,
   "metadata": {},
   "outputs": [
    {
     "data": {
      "text/plain": [
       "'Hello how are you? There are a lot of $pace$'"
      ]
     },
     "execution_count": 28,
     "metadata": {},
     "output_type": "execute_result"
    }
   ],
   "source": [
    "messy_string.strip()"
   ]
  },
  {
   "cell_type": "markdown",
   "metadata": {},
   "source": [
    "# Exercise\n",
    "Replace the dollar-sign `$` above with an `s`"
   ]
  },
  {
   "cell_type": "code",
   "execution_count": 29,
   "metadata": {},
   "outputs": [
    {
     "data": {
      "text/plain": [
       "'Hello how are you? There are a lot of spaces'"
      ]
     },
     "execution_count": 29,
     "metadata": {},
     "output_type": "execute_result"
    }
   ],
   "source": [
    "messy_string.strip().replace(\"$\", \"s\")"
   ]
  },
  {
   "cell_type": "markdown",
   "metadata": {},
   "source": [
    "# [20] If / Else\n",
    "Now that we've built a foundation in data, the next layer that we add in Boolean logic.\n",
    "\n",
    "Ultimately, even the most complex program can usually be phrased as a series or tree fo Boolean statements.\n",
    "\n",
    "\n",
    "Suppose we are dealing with an e-Commerce site.\n",
    "\n",
    "\n",
    "```\n",
    "If the user has items that they have added to their shopping cart and they haven't taken any action to checkout in the last hour, send them a reminder email.\n",
    "```"
   ]
  },
  {
   "cell_type": "markdown",
   "metadata": {},
   "source": [
    "Let's look at the syntax. Execute the following code"
   ]
  },
  {
   "cell_type": "code",
   "execution_count": 37,
   "metadata": {},
   "outputs": [
    {
     "name": "stdout",
     "output_type": "stream",
     "text": [
      "Wow! X is greater than 10!\n"
     ]
    }
   ],
   "source": [
    "x = 15\n",
    "\n",
    "if x > 10:\n",
    "    print(\"Wow! X is greater than 10!\")\n",
    "else:\n",
    "    print(\"x is less than 10 :(\")"
   ]
  },
  {
   "cell_type": "code",
   "execution_count": null,
   "metadata": {},
   "outputs": [],
   "source": []
  },
  {
   "cell_type": "markdown",
   "metadata": {},
   "source": [
    "## Exercise\n",
    "Create an `if/else` that implements the following logic:\n",
    "\n",
    "`text = \"This is an interesting sentence.\"`\n",
    "\n",
    "If text is longer than 10 characters, print that its a long string, otherwise, print its not a long string."
   ]
  },
  {
   "cell_type": "code",
   "execution_count": 38,
   "metadata": {},
   "outputs": [],
   "source": [
    "text = \"This is an interesting sentence.\""
   ]
  },
  {
   "cell_type": "code",
   "execution_count": 39,
   "metadata": {},
   "outputs": [
    {
     "name": "stdout",
     "output_type": "stream",
     "text": [
      "Long string!\n"
     ]
    }
   ],
   "source": [
    "if len(text) > 10:\n",
    "    print(\"Long string!\")\n",
    "else:\n",
    "    print(\"Not a long string\")"
   ]
  },
  {
   "cell_type": "markdown",
   "metadata": {},
   "source": [
    "# [20] Lists\n",
    "Lists are fundamental data structure in Python. Let's learn the syntax."
   ]
  },
  {
   "cell_type": "code",
   "execution_count": 41,
   "metadata": {},
   "outputs": [],
   "source": [
    "restaurants= ['Chipotle', 'TGIF', 'Nonna Maria', 'AA Sushi']"
   ]
  },
  {
   "cell_type": "markdown",
   "metadata": {},
   "source": [
    "Let's go through the common operations together:\n",
    "\n",
    "- add an element\n",
    "- remove an element\n",
    "- check if an element is in the list\n",
    "- check the length of a list"
   ]
  },
  {
   "cell_type": "code",
   "execution_count": 42,
   "metadata": {},
   "outputs": [],
   "source": [
    "restaurants.append(\"Burger King\")"
   ]
  },
  {
   "cell_type": "code",
   "execution_count": 45,
   "metadata": {},
   "outputs": [
    {
     "data": {
      "text/plain": [
       "['Chipotle', 'TGIF', 'Nonna Maria', 'AA Sushi', 'Burger King']"
      ]
     },
     "execution_count": 45,
     "metadata": {},
     "output_type": "execute_result"
    }
   ],
   "source": [
    "restaurants"
   ]
  },
  {
   "cell_type": "code",
   "execution_count": 46,
   "metadata": {},
   "outputs": [
    {
     "data": {
      "text/plain": [
       "'Burger King'"
      ]
     },
     "execution_count": 46,
     "metadata": {},
     "output_type": "execute_result"
    }
   ],
   "source": [
    "restaurants.pop()"
   ]
  },
  {
   "cell_type": "code",
   "execution_count": 48,
   "metadata": {},
   "outputs": [
    {
     "data": {
      "text/plain": [
       "['Chipotle', 'TGIF', 'Nonna Maria', 'AA Sushi']"
      ]
     },
     "execution_count": 48,
     "metadata": {},
     "output_type": "execute_result"
    }
   ],
   "source": [
    "restaurants"
   ]
  },
  {
   "cell_type": "code",
   "execution_count": 49,
   "metadata": {},
   "outputs": [
    {
     "data": {
      "text/plain": [
       "False"
      ]
     },
     "execution_count": 49,
     "metadata": {},
     "output_type": "execute_result"
    }
   ],
   "source": [
    "'McDonalds' in restaurants"
   ]
  },
  {
   "cell_type": "code",
   "execution_count": 50,
   "metadata": {},
   "outputs": [
    {
     "data": {
      "text/plain": [
       "True"
      ]
     },
     "execution_count": 50,
     "metadata": {},
     "output_type": "execute_result"
    }
   ],
   "source": [
    "'Chipotle' in restaurants"
   ]
  },
  {
   "cell_type": "markdown",
   "metadata": {},
   "source": [
    "## Exercise\n",
    "Suppose we have the following list"
   ]
  },
  {
   "cell_type": "code",
   "execution_count": 56,
   "metadata": {},
   "outputs": [],
   "source": [
    "artists = ['Van Gogh', 'Michelangelo', 'Jackson Pollack']"
   ]
  },
  {
   "cell_type": "markdown",
   "metadata": {},
   "source": [
    "Do the following operations:\n",
    "\n",
    "- Add \"Andy Warhol\" to the list\n",
    "- Remove \"Jackson Pollack\" from the list\n",
    "- Check if \"Andy Warhol\" is in the list using the `in` syntax"
   ]
  },
  {
   "cell_type": "code",
   "execution_count": 53,
   "metadata": {},
   "outputs": [],
   "source": [
    "artists.append(\"Andy Warhol\")"
   ]
  },
  {
   "cell_type": "code",
   "execution_count": 55,
   "metadata": {},
   "outputs": [
    {
     "data": {
      "text/plain": [
       "['Van Gogh', 'Michelangelo', 'Jackson Pollack', 'Andy Warhol']"
      ]
     },
     "execution_count": 55,
     "metadata": {},
     "output_type": "execute_result"
    }
   ],
   "source": [
    "artists"
   ]
  },
  {
   "cell_type": "code",
   "execution_count": null,
   "metadata": {},
   "outputs": [],
   "source": []
  },
  {
   "cell_type": "code",
   "execution_count": null,
   "metadata": {},
   "outputs": [],
   "source": []
  },
  {
   "cell_type": "markdown",
   "metadata": {},
   "source": [
    "# [30] For Loops\n",
    "\n",
    "A for loop, which is a specific type of \"list iteation\", is a powerful tool that allows us to iterate through lists or things like lists, so we can do logic for each element in the list."
   ]
  },
  {
   "cell_type": "code",
   "execution_count": 57,
   "metadata": {},
   "outputs": [
    {
     "name": "stdout",
     "output_type": "stream",
     "text": [
      "Harry Potter\n",
      "Catcher in the Rye\n",
      "The Great Gatsby\n",
      "Just Mercy\n",
      "Das Kapital\n"
     ]
    }
   ],
   "source": [
    "books = [\"Harry Potter\", \"Catcher in the Rye\", \"The Great Gatsby\", \"Just Mercy\", \"Das Kapital\"]\n",
    "\n",
    "for item_name in books:\n",
    "    print(item_name)"
   ]
  },
  {
   "cell_type": "markdown",
   "metadata": {},
   "source": [
    "## Let's layer in logic"
   ]
  },
  {
   "cell_type": "code",
   "execution_count": 58,
   "metadata": {},
   "outputs": [
    {
     "name": "stdout",
     "output_type": "stream",
     "text": [
      "Expelliarmus!\n",
      "Catcher in the Rye\n",
      "The Great Gatsby\n",
      "Just Mercy\n",
      "Das Kapital\n"
     ]
    }
   ],
   "source": [
    "books = [\"Harry Potter\", \"Catcher in the Rye\", \"The Great Gatsby\", \"Just Mercy\", \"Das Kapital\"]\n",
    "\n",
    "for item_name in books:\n",
    "    if item_name == \"Harry Potter\":\n",
    "        print(\"Expelliarmus!\")\n",
    "    else:\n",
    "        print(item_name)"
   ]
  },
  {
   "cell_type": "markdown",
   "metadata": {},
   "source": [
    "## Let's add some more complexity"
   ]
  },
  {
   "cell_type": "code",
   "execution_count": 59,
   "metadata": {},
   "outputs": [
    {
     "name": "stdout",
     "output_type": "stream",
     "text": [
      "[['Harry Potter', 7.8], ['Catcher in the Rye', 9.2], ['The Great Gatsby', 8.7]]\n"
     ]
    }
   ],
   "source": [
    "books_with_ratings = [\n",
    "    [\"Harry Potter\", 7.8],\n",
    "    [\"Catcher in the Rye\", 9.2],\n",
    "    [\"The Great Gatsby\", 8.7],\n",
    "    [\"Just Mercy\", 7.1],\n",
    "    [\"Das Kapital\", 7.0],\n",
    "    [\"The Hardy Boys\", 6.5],\n",
    "]\n",
    "\n",
    "best_books = []\n",
    "\n",
    "for item in books_with_ratings:\n",
    "    rating = item[1]\n",
    "    if rating > 7.5:\n",
    "        best_books.append(item)\n",
    "\n",
    "print(best_books)"
   ]
  },
  {
   "cell_type": "markdown",
   "metadata": {},
   "source": [
    "## Exercise\n",
    "Given a list courses, return only the courses that the student hasn't taken."
   ]
  },
  {
   "cell_type": "code",
   "execution_count": 61,
   "metadata": {},
   "outputs": [],
   "source": [
    "courses_already_taken = ['Mathematics 101', 'Astronomy 203', 'English 405']"
   ]
  },
  {
   "cell_type": "code",
   "execution_count": 62,
   "metadata": {},
   "outputs": [],
   "source": [
    "all_courses = [\n",
    "    ['Mathematics 101', 5.1],\n",
    "    ['Mathematics 102', 6.7],\n",
    "    ['Mathematics 103', 8.8],\n",
    "    ['Mathematics 201', 7.5],\n",
    "    ['Mathematics 202', 6.1],\n",
    "    ['Spanish 407', 7.2],\n",
    "    ['Astronomy 203', 6.7],\n",
    "    ['Astronomy 204', 8.8],\n",
    "    ['English 101', 5.5],\n",
    "    ['English 102', 6.5],\n",
    "    ['English 405', 6.6],\n",
    "    ['Physics 101', 7.2],\n",
    "    ['Physics 102', 7.8],\n",
    "]"
   ]
  },
  {
   "cell_type": "code",
   "execution_count": 65,
   "metadata": {},
   "outputs": [],
   "source": [
    "results = []\n",
    "for item in all_courses:\n",
    "    if (item[0] not in courses_already_taken) and (item[1] > 7.0):\n",
    "        results.append(item)"
   ]
  },
  {
   "cell_type": "code",
   "execution_count": 67,
   "metadata": {},
   "outputs": [
    {
     "data": {
      "text/plain": [
       "[['Mathematics 103', 8.8],\n",
       " ['Mathematics 201', 7.5],\n",
       " ['Spanish 407', 7.2],\n",
       " ['Astronomy 204', 8.8],\n",
       " ['Physics 101', 7.2],\n",
       " ['Physics 102', 7.8]]"
      ]
     },
     "execution_count": 67,
     "metadata": {},
     "output_type": "execute_result"
    }
   ],
   "source": [
    "results"
   ]
  },
  {
   "cell_type": "code",
   "execution_count": 68,
   "metadata": {},
   "outputs": [
    {
     "data": {
      "text/plain": [
       "[['Mathematics 103', 8.8],\n",
       " ['Mathematics 201', 7.5],\n",
       " ['Spanish 407', 7.2],\n",
       " ['Astronomy 204', 8.8],\n",
       " ['Physics 101', 7.2],\n",
       " ['Physics 102', 7.8]]"
      ]
     },
     "execution_count": 68,
     "metadata": {},
     "output_type": "execute_result"
    }
   ],
   "source": [
    "[item for item in all_courses if item[0] not in courses_already_taken and item[1] > 7.0]"
   ]
  },
  {
   "cell_type": "markdown",
   "metadata": {},
   "source": [
    "## Exercise\n",
    "Now return only the courses that they haven't taken AND the rating is higher than 7.0"
   ]
  },
  {
   "cell_type": "code",
   "execution_count": null,
   "metadata": {},
   "outputs": [],
   "source": []
  },
  {
   "cell_type": "markdown",
   "metadata": {},
   "source": [
    "# [40] Functions\n",
    "Functions are the heart and soul of programming and a lot of what we will do in data munging and preparation is create functions that we can apply to columns in our dataset to transform it to what we need."
   ]
  },
  {
   "cell_type": "markdown",
   "metadata": {},
   "source": [
    "**Let's look at the syntax.**"
   ]
  },
  {
   "cell_type": "code",
   "execution_count": 72,
   "metadata": {},
   "outputs": [],
   "source": [
    "FAVORITES = ['Chipotle', 'California Pizza Kitchen', \"Paris Bistro\"]\n",
    "\n",
    "def is_in_favorites(restaurant):\n",
    "    return restaurant in FAVORITES"
   ]
  },
  {
   "cell_type": "markdown",
   "metadata": {},
   "source": [
    "**Key things to notice**\n",
    "\n",
    "- colon\n",
    "- indentation\n",
    "- return statement\n",
    "- name of variables\n",
    "- `def`"
   ]
  },
  {
   "cell_type": "markdown",
   "metadata": {},
   "source": [
    "**Let's call the function.**"
   ]
  },
  {
   "cell_type": "code",
   "execution_count": 75,
   "metadata": {},
   "outputs": [
    {
     "data": {
      "text/plain": [
       "False"
      ]
     },
     "execution_count": 75,
     "metadata": {},
     "output_type": "execute_result"
    }
   ],
   "source": [
    "is_in_favorites(\"Burger King\")"
   ]
  },
  {
   "cell_type": "markdown",
   "metadata": {},
   "source": [
    "## Exercise\n",
    "Create a function to transform Celsius to Fahrenheit."
   ]
  },
  {
   "cell_type": "code",
   "execution_count": null,
   "metadata": {},
   "outputs": [],
   "source": []
  },
  {
   "cell_type": "markdown",
   "metadata": {},
   "source": [
    "## Exercise\n",
    "A lot of the time in data munging, we are cleaning up dirty data. Data can be dirty for many reasons. \n",
    "\n",
    "- outliers\n",
    "- typos\n",
    "- wrong data types\n",
    "- etc\n",
    "\n",
    "Create a function that does the following:\n",
    "\n",
    "```\n",
    "Turns $12,305,200.22 into 12305200.22\n",
    "```\n",
    "\n",
    "**BONUS** Gracefully handle bad data -> None"
   ]
  },
  {
   "cell_type": "code",
   "execution_count": 81,
   "metadata": {},
   "outputs": [],
   "source": [
    "def clean_amount(val):\n",
    "    try:\n",
    "        return float(val.replace('$', '').replace(',', ''))\n",
    "    except:\n",
    "        return None"
   ]
  },
  {
   "cell_type": "code",
   "execution_count": 82,
   "metadata": {},
   "outputs": [
    {
     "data": {
      "text/plain": [
       "12305200.22"
      ]
     },
     "execution_count": 82,
     "metadata": {},
     "output_type": "execute_result"
    }
   ],
   "source": [
    "clean_amount(\"$12,305,200.22\")"
   ]
  },
  {
   "cell_type": "code",
   "execution_count": 84,
   "metadata": {},
   "outputs": [],
   "source": [
    "clean_amount(\"HELLO!\")"
   ]
  },
  {
   "cell_type": "code",
   "execution_count": null,
   "metadata": {},
   "outputs": [],
   "source": []
  },
  {
   "cell_type": "markdown",
   "metadata": {},
   "source": [
    "**Let's take a look at the `random` library in the Python docs.**\n",
    "\n",
    "## https://docs.python.org/3/library/random.html"
   ]
  },
  {
   "cell_type": "markdown",
   "metadata": {},
   "source": [
    "## Exercise\n",
    "Go ahead and use the `random` library to generate a random number."
   ]
  },
  {
   "cell_type": "code",
   "execution_count": 85,
   "metadata": {},
   "outputs": [],
   "source": [
    "import random"
   ]
  },
  {
   "cell_type": "code",
   "execution_count": 95,
   "metadata": {},
   "outputs": [
    {
     "data": {
      "text/plain": [
       "3"
      ]
     },
     "execution_count": 95,
     "metadata": {},
     "output_type": "execute_result"
    }
   ],
   "source": [
    "random.randint(1, 10)"
   ]
  },
  {
   "cell_type": "markdown",
   "metadata": {},
   "source": [
    "## Lab\n",
    "Create a function that randomly returns one of your favorite restaurants, given that it has a rating of 6.5 or higher.\n",
    "\n",
    "**Bonus** This function should not return the same restaurant twice in a row."
   ]
  },
  {
   "cell_type": "code",
   "execution_count": 99,
   "metadata": {},
   "outputs": [],
   "source": [
    "FAVORITE_RESTAURANTS = [\n",
    "    ['Chipotle', 7.6],\n",
    "    ['Subway', 6.2],\n",
    "    ['Boston Market', 6.4],\n",
    "    ['Pizza Hut', 7.1],\n",
    "    ['Don Ramon Cuban Eatery', 8.3],\n",
    "    ['Paris Bistro', 7.7],\n",
    "    ['AA Sushi', 8.5],\n",
    "    ['Thai Palace', 8.3]\n",
    "]"
   ]
  },
  {
   "cell_type": "code",
   "execution_count": 100,
   "metadata": {},
   "outputs": [],
   "source": [
    "ELIGIBLE_RESTAURANTS = [rec for rec in FAVORITE_RESTAURANTS if rec[1] >= 6.5]"
   ]
  },
  {
   "cell_type": "code",
   "execution_count": 126,
   "metadata": {},
   "outputs": [],
   "source": [
    "data = {'latest_rec': None}\n",
    "\n",
    "def recommend():\n",
    "    restaurants = [r for r in ELIGIBLE_RESTAURANTS if r != data['latest_rec']]\n",
    "    latest_rec = random.choice(restaurants)\n",
    "    data['latest_rec'] = latest_rec\n",
    "    return latest_rec"
   ]
  },
  {
   "cell_type": "code",
   "execution_count": 125,
   "metadata": {},
   "outputs": [
    {
     "data": {
      "text/plain": [
       "['Pizza Hut', 7.1]"
      ]
     },
     "execution_count": 125,
     "metadata": {},
     "output_type": "execute_result"
    }
   ],
   "source": [
    "recommend()"
   ]
  },
  {
   "cell_type": "code",
   "execution_count": null,
   "metadata": {},
   "outputs": [],
   "source": []
  }
 ],
 "metadata": {
  "kernelspec": {
   "display_name": "Python 3",
   "language": "python",
   "name": "python3"
  },
  "language_info": {
   "codemirror_mode": {
    "name": "ipython",
    "version": 3
   },
   "file_extension": ".py",
   "mimetype": "text/x-python",
   "name": "python",
   "nbconvert_exporter": "python",
   "pygments_lexer": "ipython3",
   "version": "3.8.5"
  }
 },
 "nbformat": 4,
 "nbformat_minor": 2
}
